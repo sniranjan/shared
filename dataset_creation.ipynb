{
 "cells": [
  {
   "cell_type": "code",
   "execution_count": 17,
   "metadata": {},
   "outputs": [],
   "source": [
    "data = {\n",
    " \"PlayMusic\": [\n",
    " {\n",
    "      \"data\": [\n",
    "        {\n",
    "          \"text\": \"I'd like to hear music that's \"\n",
    "        },\n",
    "        {\n",
    "          \"text\": \"popular\",\n",
    "          \"entity\": \"sort\"\n",
    "        },\n",
    "        {\n",
    "          \"text\": \" from \"\n",
    "        },\n",
    "        {\n",
    "          \"text\": \"Trick-trick\",\n",
    "          \"entity\": \"artist\"\n",
    "        },\n",
    "        {\n",
    "          \"text\": \" on the \"\n",
    "        },\n",
    "        {\n",
    "          \"text\": \"Slacker\",\n",
    "          \"entity\": \"service\"\n",
    "        },\n",
    "        {\n",
    "          \"text\": \" service\"\n",
    "        }\n",
    "      ]\n",
    "    },\n",
    "    {\n",
    "      \"data\": [\n",
    "        {\n",
    "          \"text\": \"Play \"\n",
    "        },\n",
    "        {\n",
    "          \"text\": \"Making Out\",\n",
    "          \"entity\": \"track\"\n",
    "        },\n",
    "        {\n",
    "          \"text\": \" by \"\n",
    "        },\n",
    "        {\n",
    "          \"text\": \"Alexander Rosenbaum\",\n",
    "          \"entity\": \"artist\"\n",
    "        },\n",
    "        {\n",
    "          \"text\": \" off \"\n",
    "        },\n",
    "        {\n",
    "          \"text\": \"Google Music\",\n",
    "          \"entity\": \"service\"\n",
    "        },\n",
    "        {\n",
    "          \"text\": \".\"\n",
    "        }\n",
    "      ]\n",
    "    }]\n",
    "}"
   ]
  },
  {
   "cell_type": "code",
   "execution_count": 4,
   "metadata": {},
   "outputs": [
    {
     "data": {
      "text/plain": [
       "{'PlayMusic': [{'data': [{'text': \"I'd like to hear music that's \"},\n",
       "    {'text': 'popular', 'entity': 'sort'},\n",
       "    {'text': ' from '},\n",
       "    {'text': 'Trick-trick', 'entity': 'artist'},\n",
       "    {'text': ' on the '},\n",
       "    {'text': 'Slacker', 'entity': 'service'},\n",
       "    {'text': ' service'}]},\n",
       "  {'data': [{'text': 'Play '},\n",
       "    {'text': 'Making Out', 'entity': 'track'},\n",
       "    {'text': ' by '},\n",
       "    {'text': 'Alexander Rosenbaum', 'entity': 'artist'},\n",
       "    {'text': ' off '},\n",
       "    {'text': 'Google Music', 'entity': 'service'},\n",
       "    {'text': '.'}]}]}"
      ]
     },
     "execution_count": 4,
     "metadata": {},
     "output_type": "execute_result"
    }
   ],
   "source": [
    "data"
   ]
  },
  {
   "cell_type": "code",
   "execution_count": 5,
   "metadata": {},
   "outputs": [
    {
     "data": {
      "text/plain": [
       "dict"
      ]
     },
     "execution_count": 5,
     "metadata": {},
     "output_type": "execute_result"
    }
   ],
   "source": [
    "type(data)"
   ]
  },
  {
   "cell_type": "code",
   "execution_count": 8,
   "metadata": {},
   "outputs": [
    {
     "data": {
      "text/plain": [
       "list"
      ]
     },
     "execution_count": 8,
     "metadata": {},
     "output_type": "execute_result"
    }
   ],
   "source": [
    "type(data['PlayMusic'])"
   ]
  },
  {
   "cell_type": "code",
   "execution_count": 9,
   "metadata": {},
   "outputs": [
    {
     "data": {
      "text/plain": [
       "{'data': [{'text': \"I'd like to hear music that's \"},\n",
       "  {'text': 'popular', 'entity': 'sort'},\n",
       "  {'text': ' from '},\n",
       "  {'text': 'Trick-trick', 'entity': 'artist'},\n",
       "  {'text': ' on the '},\n",
       "  {'text': 'Slacker', 'entity': 'service'},\n",
       "  {'text': ' service'}]}"
      ]
     },
     "execution_count": 9,
     "metadata": {},
     "output_type": "execute_result"
    }
   ],
   "source": [
    "data['PlayMusic'][0]"
   ]
  },
  {
   "cell_type": "code",
   "execution_count": 10,
   "metadata": {},
   "outputs": [
    {
     "data": {
      "text/plain": [
       "[{'text': \"I'd like to hear music that's \"},\n",
       " {'text': 'popular', 'entity': 'sort'},\n",
       " {'text': ' from '},\n",
       " {'text': 'Trick-trick', 'entity': 'artist'},\n",
       " {'text': ' on the '},\n",
       " {'text': 'Slacker', 'entity': 'service'},\n",
       " {'text': ' service'}]"
      ]
     },
     "execution_count": 10,
     "metadata": {},
     "output_type": "execute_result"
    }
   ],
   "source": [
    "data['PlayMusic'][0]['data']"
   ]
  },
  {
   "cell_type": "code",
   "execution_count": 21,
   "metadata": {},
   "outputs": [],
   "source": [
    "########################## parsing logic #######################\n",
    "\n",
    "final_dataset = []\n",
    "\n",
    "for sentence in data['PlayMusic']:\n",
    "    words = sentence['data']\n",
    "    temp = ''\n",
    "    for word in words:        \n",
    "        temp = temp + word['text']\n",
    "    final_dataset.append(temp)\n"
   ]
  },
  {
   "cell_type": "code",
   "execution_count": 20,
   "metadata": {},
   "outputs": [
    {
     "data": {
      "text/plain": [
       "[\"I'd like to hear music that's popular from Trick-trick on the Slacker service\",\n",
       " 'Play Making Out by Alexander Rosenbaum off Google Music.']"
      ]
     },
     "execution_count": 20,
     "metadata": {},
     "output_type": "execute_result"
    }
   ],
   "source": [
    "final_dataset"
   ]
  },
  {
   "cell_type": "code",
   "execution_count": null,
   "metadata": {},
   "outputs": [],
   "source": []
  }
 ],
 "metadata": {
  "kernelspec": {
   "display_name": "Python 3",
   "language": "python",
   "name": "python3"
  },
  "language_info": {
   "name": ""
  }
 },
 "nbformat": 4,
 "nbformat_minor": 2
}
